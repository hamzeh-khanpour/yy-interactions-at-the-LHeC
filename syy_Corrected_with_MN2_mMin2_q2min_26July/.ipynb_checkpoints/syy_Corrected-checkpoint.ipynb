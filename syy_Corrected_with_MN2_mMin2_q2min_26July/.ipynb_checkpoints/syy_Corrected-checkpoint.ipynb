{
 "cells": [
  {
   "cell_type": "code",
   "execution_count": 1,
   "id": "cab8d3ee",
   "metadata": {
    "scrolled": false
   },
   "outputs": [
    {
     "ename": "NameError",
     "evalue": "name 'ALPHA2PI' is not defined",
     "output_type": "error",
     "traceback": [
      "\u001b[0;31m---------------------------------------------------------------------------\u001b[0m",
      "\u001b[0;31mNameError\u001b[0m                                 Traceback (most recent call last)",
      "Input \u001b[0;32mIn [1]\u001b[0m, in \u001b[0;36m<module>\u001b[0;34m\u001b[0m\n\u001b[1;32m     11\u001b[0m wv \u001b[38;5;241m=\u001b[39m np\u001b[38;5;241m.\u001b[39marray(wvalues[\u001b[38;5;241m3\u001b[39m])\n\u001b[1;32m     12\u001b[0m ie \u001b[38;5;241m=\u001b[39m np\u001b[38;5;241m.\u001b[39marray(inel[\u001b[38;5;241m3\u001b[39m])\n\u001b[0;32m---> 14\u001b[0m ie \u001b[38;5;241m=\u001b[39m np\u001b[38;5;241m.\u001b[39marray(\u001b[43mALPHA2PI\u001b[49m[\u001b[38;5;241m3\u001b[39m])\n\u001b[1;32m     16\u001b[0m ie \u001b[38;5;241m=\u001b[39m np\u001b[38;5;241m.\u001b[39marray(ALPHA2PIA2[\u001b[38;5;241m3\u001b[39m])\n\u001b[1;32m     17\u001b[0m ie \u001b[38;5;241m=\u001b[39m np\u001b[38;5;241m.\u001b[39marray(ALPHA2PIA2New[\u001b[38;5;241m3\u001b[39m])\n",
      "\u001b[0;31mNameError\u001b[0m: name 'ALPHA2PI' is not defined"
     ]
    }
   ],
   "source": [
    "import numpy as np\n",
    "import matplotlib.pyplot as plt\n",
    "import sys\n",
    "\n",
    "sys.path.append('./values')\n",
    "# from syy_1_3_3_0804 import *\n",
    "# from syy_1_3_4_0805 import *\n",
    "# from syy_1_4_4_0907 import *\n",
    "from wgrid_1_4_4_0908 import *\n",
    "\n",
    "wv = np.array(wvalues[3])\n",
    "ie = np.array(inel[3])\n",
    "\n",
    "ie = np.array(ALPHA2PI[3])\n",
    "\n",
    "ie = np.array(ALPHA2PIA2[3])\n",
    "ie = np.array(ALPHA2PIA2New[3])\n",
    "\n",
    "ie = np.array(ALPHA2PIA2Q2[3])\n",
    "\n",
    "ie = np.array(ALPHA2PIA2Q2New[3])\n",
    "\n",
    "el = np.array(elas[3])\n",
    "\n",
    "fig, ax = plt.subplots(figsize = (12., 10.))\n",
    "\n",
    "plt.rc(\"text\", usetex = True)\n",
    "\n",
    "ax.set_xlim([10., 1000.])\n",
    "ax.set_ylim([2.e-7, 2.e-2])\n",
    "\n",
    "ax.set_xlabel(\"W [GeV]\", fontsize = 20)\n",
    "ax.set_ylabel(r\"$S_{\\gamma \\gamma}$\", fontsize = 20)\n",
    "\n",
    "inel_label1 = 'Inelastic $M_{N}<$ ' + str(inel[0]) +  ' GeV'\n",
    "title_label = 'Q^{2}_{e/p} < ' + str(inel[1]) + '/' + str(inel[2]) + 'GeV^{2}'\n",
    "\n",
    "plt.loglog(wvalues[3][:101], elas[3][:101], 'b-', label = 'Elastic')\n",
    "\n",
    "#plt.loglog(wvalues[3][:101], inel[3][:101], '-',  label = 'Inelastic 10 GeV')\n",
    "#plt.loglog(wvalues[3][:101], ALPHA2PI[3][:101], '-', label = 'Inelastic ALPHA2PI')\n",
    "#plt.loglog(wvalues[3][:101], ALPHA2PIA2[3][:101], '-', label = 'Inelastic ALPHA2PI-A2')\n",
    "#plt.loglog(wvalues[3][:101], ALPHA2PIA2New[3][:101], '-', label = 'Inelastic ALPHA2PI-A2-New')\n",
    "#plt.loglog(wvalues[3][:101], ALPHA2PIA2Q2[3][:101], '-', label = 'Inelastic ALPHA2PI-A2-Q2')\n",
    "#plt.loglog(wvalues[3][:101], ALPHA2PIA2Q2New[3][:101], '-', label = 'Inelastic ALPHA2PI-A2-Q2-New')\n",
    "\n",
    "\n",
    "plt.grid()\n",
    "\n",
    "plt.legend(title=r\"$Q^{2}_{e/p} < 10000/10000$ $GeV^{2}$\")\n",
    "plt.savefig(\"q2max-10000-MN-10GeV-old.pdf\")\n"
   ]
  },
  {
   "cell_type": "code",
   "execution_count": null,
   "id": "9c56e0e0",
   "metadata": {},
   "outputs": [],
   "source": []
  }
 ],
 "metadata": {
  "kernelspec": {
   "display_name": "Python 3 (ipykernel)",
   "language": "python",
   "name": "python3"
  },
  "language_info": {
   "codemirror_mode": {
    "name": "ipython",
    "version": 3
   },
   "file_extension": ".py",
   "mimetype": "text/x-python",
   "name": "python",
   "nbconvert_exporter": "python",
   "pygments_lexer": "ipython3",
   "version": "3.8.10"
  }
 },
 "nbformat": 4,
 "nbformat_minor": 5
}
