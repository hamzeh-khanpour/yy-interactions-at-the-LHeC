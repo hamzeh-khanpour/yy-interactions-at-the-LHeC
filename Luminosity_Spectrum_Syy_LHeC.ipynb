{
  "nbformat": 4,
  "nbformat_minor": 0,
  "metadata": {
    "colab": {
      "provenance": [],
      "authorship_tag": "ABX9TyPrsg1M4Ic8YLKYxSIwywtf",
      "include_colab_link": true
    },
    "kernelspec": {
      "name": "python3",
      "display_name": "Python 3"
    },
    "language_info": {
      "name": "python"
    }
  },
  "cells": [
    {
      "cell_type": "markdown",
      "metadata": {
        "id": "view-in-github",
        "colab_type": "text"
      },
      "source": [
        "<a href=\"https://colab.research.google.com/github/hamzeh-khanpour/yy-interactions-at-the-LHeC/blob/main/Luminosity_Spectrum_Syy_LHeC.ipynb\" target=\"_parent\"><img src=\"https://colab.research.google.com/assets/colab-badge.svg\" alt=\"Open In Colab\"/></a>"
      ]
    },
    {
      "cell_type": "code",
      "execution_count": null,
      "metadata": {
        "id": "lPGd4MsbJEYt"
      },
      "outputs": [],
      "source": [
        "import numpy as np\n",
        "import matplotlib.pyplot as plt\n",
        "\n",
        "\n",
        "# Constants\n",
        "alpha = 1 / 137  # Fine-structure constant\n",
        "M_p = 0.938  # Proton mass in GeV\n",
        "mu_p = 2.7927  # Proton magnetic moment\n",
        "E_electron = 50  # Electron beam energy at the LHeC in GeV\n",
        "E_proton = 7000  # Proton beam energy in GeV\n",
        "s_ep = 4 * E_electron * E_proton  # CM energy squared of the ep system\n",
        "\n",
        "\n",
        "# Form factors for the proton (dipole model)\n",
        "def G_E(Q2):\n",
        "    return (1 + Q2 / 0.71)**(-2)\n",
        "\n",
        "def G_M(Q2):\n",
        "    return mu_p * G_E(Q2)\n",
        "\n",
        "# Photon flux for the proton\n",
        "def phi_p(y, Q2_min, Q2_max):\n",
        "    flux = 0\n",
        "    Q2_values = np.linspace(Q2_min, Q2_max, 1000)\n",
        "    for Q2 in Q2_values:\n",
        "        flux += (G_E(Q2)**2 + (Q2 / (4 * M_p**2)) * G_M(Q2)**2) / Q2\n",
        "    return (alpha / np.pi) * flux / y\n",
        "\n",
        "\n",
        "\n",
        "\n",
        "# Photon flux for the electron\n",
        "def phi_e(y, Q2_min, Q2_max):\n",
        "    flux = 0\n",
        "    Q2_values = np.linspace(Q2_min, Q2_max, 1000)\n",
        "    for Q2 in Q2_values:\n",
        "        flux += ((1 - y) * (1 - Q2_min / Q2) + y**2 / 2) / Q2\n",
        "    return (alpha / np.pi) * flux / y\n",
        "\n",
        "\n",
        "\n",
        "\n",
        "\n",
        "# Luminosity spectrum calculation\n",
        "def S_gamma_gamma(W, s_ep, Q2_min_e, Q2_max_e, Q2_min_p, Q2_max_p):\n",
        "    luminosity = 0\n",
        "    y_e_min = W**2 / s_ep\n",
        "    y_e_values = np.linspace(y_e_min, 1, 1000)\n",
        "    for y_e in y_e_values:\n",
        "        y_p = W**2 / (y_e * s_ep)\n",
        "        luminosity += phi_e(y_e, Q2_min_e, Q2_max_e) * phi_p(y_p, Q2_min_p, Q2_max_p) / y_e\n",
        "    return 2 * W / s_ep * luminosity\n",
        "\n",
        "# Parameters\n",
        "Q2_min_e = 1e-5  # Minimal photon virtuality for electron (GeV^2)\n",
        "Q2_max_e = 100000    # Maximal photon virtuality for electron (GeV^2)\n",
        "Q2_min_p = 1e-5  # Minimal photon virtuality for proton (GeV^2)\n",
        "Q2_max_p = 100000    # Maximal photon virtuality for proton (GeV^2)\n",
        "\n",
        "# Compute and plot the luminosity spectrum\n",
        "W_values = np.linspace(10, 1000, 100)  # Photon-photon CM energy in GeV\n",
        "luminosity_spectrum = [S_gamma_gamma(W, s_ep, Q2_min_e, Q2_max_e, Q2_min_p, Q2_max_p) for W in W_values]\n",
        "\n",
        "\n",
        "# Plotting the results\n",
        "plt.figure(figsize=(8, 6))\n",
        "plt.plot(W_values, luminosity_spectrum, label=r'Elastic Luminosity Spectrum')\n",
        "plt.yscale('log')\n",
        "plt.xlabel(r'Photon-Photon CM Energy $W_{\\gamma\\gamma}$ (GeV)')\n",
        "plt.ylabel(r'Luminosity Spectrum $S_{\\gamma\\gamma}(W)$')\n",
        "plt.title('Elastic Photon-Photon Luminosity Spectrum at the LHeC')\n",
        "plt.grid(True)\n",
        "plt.legend()\n",
        "plt.show()\n"
      ]
    }
  ]
}